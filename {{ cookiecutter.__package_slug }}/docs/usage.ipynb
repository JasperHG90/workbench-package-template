{
 "cells": [
  {
   "attachments": {},
   "cell_type": "markdown",
   "metadata": {},
   "source": [
    "# Using {{cookiecutter.__package_slug}}"
   ]
  },
  {
   "cell_type": "code",
   "execution_count": null,
   "metadata": {},
   "outputs": [],
   "source": [
    "from {{cookiecutter.__package_slug}} import __version__\n",
    "\n",
    "print(__version__)"
   ]
  }
 ],
 "metadata": {
  "kernelspec": {
   "display_name": ".venv",
   "language": "python",
   "name": "python3"
  },
  "language_info": {
   "name": "python",
   "version": "3.9.5"
  },
  "orig_nbformat": 4,
  "vscode": {
   "interpreter": {
    "hash": "0a93948f90e72eda338d2d943f421f54d27151b14b458560b1b34ee0aaee6497"
   }
  }
 },
 "nbformat": 4,
 "nbformat_minor": 2
}
